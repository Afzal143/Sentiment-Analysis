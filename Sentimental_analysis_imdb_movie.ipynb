{
 "cells": [
  {
   "cell_type": "markdown",
   "metadata": {
    "deletable": true,
    "editable": true
   },
   "source": [
    "## Movie_Review Sentimental Analysis"
   ]
  },
  {
   "cell_type": "markdown",
   "metadata": {
    "deletable": true,
    "editable": true
   },
   "source": [
    "I used a dataset from the IMDB_Dataset\n",
    "This dataset is already located in my the folder for this project."
   ]
  },
  {
   "cell_type": "markdown",
   "metadata": {
    "deletable": true,
    "editable": true
   },
   "source": [
    "The file we are using contains a collection of nearly 2 thousands movie review comment. \n",
    "\n",
    "\n"
   ]
  },
  {
   "cell_type": "code",
   "execution_count": 1,
   "metadata": {
    "collapsed": false,
    "deletable": true,
    "editable": true
   },
   "outputs": [
    {
     "name": "stdout",
     "output_type": "stream",
     "text": [
      "1959\n"
     ]
    }
   ],
   "source": [
    "messages = [line.rstrip() for line in open('movie_review.csv')]\n",
    "print(len(messages))"
   ]
  },
  {
   "cell_type": "markdown",
   "metadata": {
    "deletable": true,
    "editable": true
   },
   "source": [
    "A collection of texts is also sometimes called \"corpus\". Let's print the first ten messages "
   ]
  },
  {
   "cell_type": "code",
   "execution_count": 2,
   "metadata": {
    "collapsed": false,
    "deletable": true,
    "editable": true
   },
   "outputs": [
    {
     "name": "stdout",
     "output_type": "stream",
     "text": [
      "0 ﻿\"This movie is really not all that bad. But then again, this movie genre is right down my alley. Sure, the sets are cheap, but they really did decent with what they had. <br /><br />If you like cheap, futuristic, post-apocalyptic B movies, then you'll love this one!! I sure did!<br /><br />\",positive\n",
      "\n",
      "\n",
      "1 \"Vanilla Sky was a wonderfully thought out movie. Or rather, \"\"Abre Los Ojos\"\" was well thought out. I watched that movie late one night, excited about what was to come. I wasn't disappointed. By the end of the movie, I was awstruck. I couldn't get it off my mind. The whole idea of it just blew me away. The ending, was more of a surprise than Shyamalan could ever do. The plot line was also something that kept me interesting through and through. The cast, superb. It was an all around wonderful movie. The kind of movie you can watch again and again and always find something new. I've seen it four or five times and I'm always finding something new. It's a movie to keep you interested forever.\",positive\n",
      "\n",
      "\n",
      "2 \"Joseph Brady and Clarence Doolittle are two sailors, who have a four-day shore leave in Hollywood.Joe knows everything about girls and can't wait to see Lola, while Clarence is shyer and needs some advice from his buddy on how to meet girls.They then run into a little boy, Donald Martin, who has ran away in order to join the navy.They take him home and meet his beautiful aunt Susan, who wants to be a singer.Clarence wants Susie to be his girl, but his shyness gets in the way.But he doesn't feel shy with a waitress, who comes from Brooklyn, like he does.Soon Joe notices he's in love with Susie.The boys are in a fix when they lie to Susie on meeting with a big time music producer they don't even know.As they are in a fix with their feelings.George Sidney's Anchors Aweigh (1945) is a great musical comedy.Gene Kelly is top-notch, once again, in his singing and dancing routines.Frank Sinatra is terrific as the shy guy from Brooklyn.Shy isn't the first thing that comes to mind when you think of Frank Sinatra, but he plays his part well.Kathryn Grayson is fantastic as Susan Abbott.We sadly lost this gifted actress and operatic soprano singer last month at the age of 88.The 9-year old Dean Stockwell does amazing job as the little fellow wanting to become a sailor.Jose Iturbi does great job performing himself.It's magic what he does with the piano.Edgar Kennedy plays Chief of police station.Sara Berner is the voice of Jerry Mouse.There's a lot of great stuff in this movie and some fantastic singing and dancing numbers.Just look at Kelly and Sinatra performing \"\"We Hate to Leave\"\".It's so energetic.\"\"If You Knew Susie (Like I Know Susie)\"\" is quite funny.It's a nice moment when Frank sings Brahms' Lullaby to little Dean Stockwell.It's lovely to listen to Grayson singing the tango \"\"Jealousy\"\" .The most memorable sequence is the one that takes into the animated fantasy world, and there Gene sings and dances with Jerry Mouse.Also Tom Cat is seen there as the butler.They originally asked Mickey Mouse but he refused.The movie was nominated for five Oscars but Georgie Stoll got one for Original Music Score.Anchors Aweigh is some high class entertainment.\",positive\n",
      "\n",
      "\n",
      "3 \"10 ITEMS OR LESS was made in two weeks on a shoestring budget by writer/director Brad Silberling, just a little film shot in Carson, CA that feels like the entire story was improvised...in the best sense of the word. Silberling had the good fortune to pair veteran actor Morgan Freeman, in between his big projects, with Spanish actress Paz Vega, and the result is a dialogue between two people from different vantages who manage to enhance the life of the other.<br /><br />Morgan Freeman plays himself - yet part of the comedy is that he is depicted as an actor who has been out of work for four years, scouting a location for a little 'filler film' to get back into the flow of things. His 'role' is to be that of a market manager and he is dropped off at seedy market in Carson where he encounters, among others, one Scarlet, the girl at the argumentative 10 Items or Less checkout line. Not only is Scarlet tired of her static job, she is also generally angry about her philandering husband (Bobby Cannavale), currently sleeping with Scarlet's lazy co-worker (Anne Dudek), and her lack of ability to get a decent job elsewhere. The two pair after a few shared problems and off they go on a 'road trip' that results in each of the characters growing from the presence and life story of the other.<br /><br />It is a simple story, simply told, but because of the tender bonding between Freeman and Paz it works very well. This is one of those little films about human relationships where being vulnerable to change and exchange is the message. It is well worth viewing, and this is a DVD that has featurettes that are touching, informative, and comic - a pleasure to view. Grady Harp\",positive\n",
      "\n",
      "\n"
     ]
    }
   ],
   "source": [
    "for message_no, message in enumerate(messages[:4]):\n",
    "    print(message_no, message)\n",
    "    print('\\n')"
   ]
  },
  {
   "cell_type": "markdown",
   "metadata": {
    "deletable": true,
    "editable": true
   },
   "source": [
    "Due to the spacing we can tell that this is a [CSV](http://en.wikipedia.org/wiki/Comma-separated_values) (\"Comma separated values\") file."
   ]
  },
  {
   "cell_type": "markdown",
   "metadata": {
    "deletable": true,
    "editable": true
   },
   "source": [
    "Using Pandas"
   ]
  },
  {
   "cell_type": "code",
   "execution_count": 4,
   "metadata": {
    "collapsed": true,
    "deletable": true,
    "editable": true
   },
   "outputs": [],
   "source": [
    "import pandas as pd"
   ]
  },
  {
   "cell_type": "markdown",
   "metadata": {
    "deletable": true,
    "editable": true
   },
   "source": [
    "We'll use **read_csv** and make note of the **sep** argument, we can also specify the desired column names by passing in a list of *names*."
   ]
  },
  {
   "cell_type": "code",
   "execution_count": 8,
   "metadata": {
    "collapsed": false,
    "deletable": true,
    "editable": true
   },
   "outputs": [
    {
     "data": {
      "text/html": [
       "<div>\n",
       "<table border=\"1\" class=\"dataframe\">\n",
       "  <thead>\n",
       "    <tr style=\"text-align: right;\">\n",
       "      <th></th>\n",
       "      <th>message</th>\n",
       "      <th>label</th>\n",
       "    </tr>\n",
       "  </thead>\n",
       "  <tbody>\n",
       "    <tr>\n",
       "      <th>0</th>\n",
       "      <td>This movie is really not all that bad. But the...</td>\n",
       "      <td>positive</td>\n",
       "    </tr>\n",
       "    <tr>\n",
       "      <th>1</th>\n",
       "      <td>Vanilla Sky was a wonderfully thought out movi...</td>\n",
       "      <td>positive</td>\n",
       "    </tr>\n",
       "    <tr>\n",
       "      <th>2</th>\n",
       "      <td>Joseph Brady and Clarence Doolittle are two sa...</td>\n",
       "      <td>positive</td>\n",
       "    </tr>\n",
       "    <tr>\n",
       "      <th>3</th>\n",
       "      <td>10 ITEMS OR LESS was made in two weeks on a sh...</td>\n",
       "      <td>positive</td>\n",
       "    </tr>\n",
       "    <tr>\n",
       "      <th>4</th>\n",
       "      <td>I saw this movie first on the Berlin Film Fest...</td>\n",
       "      <td>positive</td>\n",
       "    </tr>\n",
       "  </tbody>\n",
       "</table>\n",
       "</div>"
      ],
      "text/plain": [
       "                                             message     label\n",
       "0  This movie is really not all that bad. But the...  positive\n",
       "1  Vanilla Sky was a wonderfully thought out movi...  positive\n",
       "2  Joseph Brady and Clarence Doolittle are two sa...  positive\n",
       "3  10 ITEMS OR LESS was made in two weeks on a sh...  positive\n",
       "4  I saw this movie first on the Berlin Film Fest...  positive"
      ]
     },
     "execution_count": 8,
     "metadata": {},
     "output_type": "execute_result"
    }
   ],
   "source": [
    "messages = pd.read_csv('movie_review.csv', sep=',',names=[\"message\", \"label\"])\n",
    "messages.head()"
   ]
  },
  {
   "cell_type": "markdown",
   "metadata": {
    "deletable": true,
    "editable": true
   },
   "source": [
    "## Exploratory Data Analysis\n",
    "\n",
    "Let's check out some of the stats with some plots and the built-in methods in pandas!"
   ]
  },
  {
   "cell_type": "code",
   "execution_count": 9,
   "metadata": {
    "collapsed": false,
    "deletable": true,
    "editable": true
   },
   "outputs": [
    {
     "data": {
      "text/html": [
       "<div>\n",
       "<table border=\"1\" class=\"dataframe\">\n",
       "  <thead>\n",
       "    <tr style=\"text-align: right;\">\n",
       "      <th></th>\n",
       "      <th>message</th>\n",
       "      <th>label</th>\n",
       "    </tr>\n",
       "  </thead>\n",
       "  <tbody>\n",
       "    <tr>\n",
       "      <th>count</th>\n",
       "      <td>1959</td>\n",
       "      <td>1959</td>\n",
       "    </tr>\n",
       "    <tr>\n",
       "      <th>unique</th>\n",
       "      <td>1959</td>\n",
       "      <td>2</td>\n",
       "    </tr>\n",
       "    <tr>\n",
       "      <th>top</th>\n",
       "      <td>This has the absolute worst performance from R...</td>\n",
       "      <td>negative</td>\n",
       "    </tr>\n",
       "    <tr>\n",
       "      <th>freq</th>\n",
       "      <td>1</td>\n",
       "      <td>1001</td>\n",
       "    </tr>\n",
       "  </tbody>\n",
       "</table>\n",
       "</div>"
      ],
      "text/plain": [
       "                                                  message     label\n",
       "count                                                1959      1959\n",
       "unique                                               1959         2\n",
       "top     This has the absolute worst performance from R...  negative\n",
       "freq                                                    1      1001"
      ]
     },
     "execution_count": 9,
     "metadata": {},
     "output_type": "execute_result"
    }
   ],
   "source": [
    "messages.describe()"
   ]
  },
  {
   "cell_type": "markdown",
   "metadata": {
    "deletable": true,
    "editable": true
   },
   "source": [
    "by using **groupby** and describe by label, this way we can begin to think about the features that separate positive and negative!"
   ]
  },
  {
   "cell_type": "code",
   "execution_count": 10,
   "metadata": {
    "collapsed": false,
    "deletable": true,
    "editable": true
   },
   "outputs": [
    {
     "data": {
      "text/html": [
       "<div>\n",
       "<table border=\"1\" class=\"dataframe\">\n",
       "  <thead>\n",
       "    <tr style=\"text-align: right;\">\n",
       "      <th></th>\n",
       "      <th></th>\n",
       "      <th>message</th>\n",
       "    </tr>\n",
       "    <tr>\n",
       "      <th>label</th>\n",
       "      <th></th>\n",
       "      <th></th>\n",
       "    </tr>\n",
       "  </thead>\n",
       "  <tbody>\n",
       "    <tr>\n",
       "      <th rowspan=\"4\" valign=\"top\">negative</th>\n",
       "      <th>count</th>\n",
       "      <td>1001</td>\n",
       "    </tr>\n",
       "    <tr>\n",
       "      <th>unique</th>\n",
       "      <td>1001</td>\n",
       "    </tr>\n",
       "    <tr>\n",
       "      <th>top</th>\n",
       "      <td>This has the absolute worst performance from R...</td>\n",
       "    </tr>\n",
       "    <tr>\n",
       "      <th>freq</th>\n",
       "      <td>1</td>\n",
       "    </tr>\n",
       "    <tr>\n",
       "      <th rowspan=\"4\" valign=\"top\">positive</th>\n",
       "      <th>count</th>\n",
       "      <td>958</td>\n",
       "    </tr>\n",
       "    <tr>\n",
       "      <th>unique</th>\n",
       "      <td>958</td>\n",
       "    </tr>\n",
       "    <tr>\n",
       "      <th>top</th>\n",
       "      <td>I did not have too much interest in watching T...</td>\n",
       "    </tr>\n",
       "    <tr>\n",
       "      <th>freq</th>\n",
       "      <td>1</td>\n",
       "    </tr>\n",
       "  </tbody>\n",
       "</table>\n",
       "</div>"
      ],
      "text/plain": [
       "                                                           message\n",
       "label                                                             \n",
       "negative count                                                1001\n",
       "         unique                                               1001\n",
       "         top     This has the absolute worst performance from R...\n",
       "         freq                                                    1\n",
       "positive count                                                 958\n",
       "         unique                                                958\n",
       "         top     I did not have too much interest in watching T...\n",
       "         freq                                                    1"
      ]
     },
     "execution_count": 10,
     "metadata": {},
     "output_type": "execute_result"
    }
   ],
   "source": [
    "messages.groupby('label').describe()"
   ]
  },
  {
   "cell_type": "markdown",
   "metadata": {
    "deletable": true,
    "editable": true
   },
   "source": [
    "As we continue our analysis we want to start thinking about the features we are going to be using. \n",
    "This goes along with the general idea of [feature engineering](https://en.wikipedia.org/wiki/Feature_engineering). \n",
    "The better our domain knowledge on the data will have, the better our ability to engineer more features from it. \n",
    "\n",
    "\n",
    "Let's make a new column to detect how long the text messages are:"
   ]
  },
  {
   "cell_type": "code",
   "execution_count": 11,
   "metadata": {
    "collapsed": false,
    "deletable": true,
    "editable": true
   },
   "outputs": [
    {
     "data": {
      "text/html": [
       "<div>\n",
       "<table border=\"1\" class=\"dataframe\">\n",
       "  <thead>\n",
       "    <tr style=\"text-align: right;\">\n",
       "      <th></th>\n",
       "      <th>message</th>\n",
       "      <th>label</th>\n",
       "      <th>length</th>\n",
       "    </tr>\n",
       "  </thead>\n",
       "  <tbody>\n",
       "    <tr>\n",
       "      <th>0</th>\n",
       "      <td>This movie is really not all that bad. But the...</td>\n",
       "      <td>positive</td>\n",
       "      <td>290</td>\n",
       "    </tr>\n",
       "    <tr>\n",
       "      <th>1</th>\n",
       "      <td>Vanilla Sky was a wonderfully thought out movi...</td>\n",
       "      <td>positive</td>\n",
       "      <td>695</td>\n",
       "    </tr>\n",
       "    <tr>\n",
       "      <th>2</th>\n",
       "      <td>Joseph Brady and Clarence Doolittle are two sa...</td>\n",
       "      <td>positive</td>\n",
       "      <td>2171</td>\n",
       "    </tr>\n",
       "    <tr>\n",
       "      <th>3</th>\n",
       "      <td>10 ITEMS OR LESS was made in two weeks on a sh...</td>\n",
       "      <td>positive</td>\n",
       "      <td>1686</td>\n",
       "    </tr>\n",
       "    <tr>\n",
       "      <th>4</th>\n",
       "      <td>I saw this movie first on the Berlin Film Fest...</td>\n",
       "      <td>positive</td>\n",
       "      <td>477</td>\n",
       "    </tr>\n",
       "  </tbody>\n",
       "</table>\n",
       "</div>"
      ],
      "text/plain": [
       "                                             message     label  length\n",
       "0  This movie is really not all that bad. But the...  positive     290\n",
       "1  Vanilla Sky was a wonderfully thought out movi...  positive     695\n",
       "2  Joseph Brady and Clarence Doolittle are two sa...  positive    2171\n",
       "3  10 ITEMS OR LESS was made in two weeks on a sh...  positive    1686\n",
       "4  I saw this movie first on the Berlin Film Fest...  positive     477"
      ]
     },
     "execution_count": 11,
     "metadata": {},
     "output_type": "execute_result"
    }
   ],
   "source": [
    "messages['length'] = messages['message'].apply(len)\n",
    "messages.head()"
   ]
  },
  {
   "cell_type": "markdown",
   "metadata": {
    "deletable": true,
    "editable": true
   },
   "source": [
    "### Data Visualization\n",
    "Let's visualize this! Let's do the imports:"
   ]
  },
  {
   "cell_type": "code",
   "execution_count": 13,
   "metadata": {
    "collapsed": false,
    "deletable": true,
    "editable": true
   },
   "outputs": [],
   "source": [
    "import matplotlib.pyplot as plt\n",
    "import seaborn as sns\n",
    "\n",
    "%matplotlib inline"
   ]
  },
  {
   "cell_type": "code",
   "execution_count": 14,
   "metadata": {
    "collapsed": false,
    "deletable": true,
    "editable": true
   },
   "outputs": [
    {
     "data": {
      "text/plain": [
       "<matplotlib.axes._subplots.AxesSubplot at 0x10c0693c8>"
      ]
     },
     "execution_count": 14,
     "metadata": {},
     "output_type": "execute_result"
    },
    {
     "data": {
      "image/png": "[encoded data removed]",
      "text/plain": [
       "<matplotlib.figure.Figure at 0x10bfce080>"
      ]
     },
     "metadata": {},
     "output_type": "display_data"
    }
   ],
   "source": [
    "messages['length'].plot(bins=50, kind='hist') "
   ]
  },
  {
   "cell_type": "markdown",
   "metadata": {
    "deletable": true,
    "editable": true
   },
   "source": [
    " the x-axis goes all the way to 6000ish, this must mean that there is some really long message!"
   ]
  },
  {
   "cell_type": "code",
   "execution_count": 15,
   "metadata": {
    "collapsed": false,
    "deletable": true,
    "editable": true
   },
   "outputs": [
    {
     "data": {
      "text/plain": [
       "count    1959.000000\n",
       "mean     1310.167432\n",
       "std       960.743424\n",
       "min       123.000000\n",
       "25%       694.000000\n",
       "50%       974.000000\n",
       "75%      1609.500000\n",
       "max      5966.000000\n",
       "Name: length, dtype: float64"
      ]
     },
     "execution_count": 15,
     "metadata": {},
     "output_type": "execute_result"
    }
   ],
   "source": [
    "messages.length.describe()"
   ]
  },
  {
   "cell_type": "markdown",
   "metadata": {
    "deletable": true,
    "editable": true
   },
   "source": [
    " max length of the message = 5966 characters, "
   ]
  },
  {
   "cell_type": "code",
   "execution_count": 17,
   "metadata": {
    "collapsed": false,
    "deletable": true,
    "editable": true
   },
   "outputs": [
    {
     "data": {
      "text/plain": [
       "'In NYC, seaman Michael O\\'Hara (Orson Welles) rescues Elsa Bannister (Rita Hayworth) from a mugging & rape as she takes a horse & carriage through Central Park -and lives to regret it. Titian-haired Hayworth\\'s a platinum blonde in this one; as dazzling as fresh-fallen snow -but nowhere near as pure...<br /><br />To reveal any more of the convoluted plot in this seminal \"noir\" would be criminal. It\\'s as deceptive as the mirrors used to cataclysmic effect in the final scenes -but the film holds far darker secrets: From the NY Times: \"Childhood Shadows: The Hidden Story Of The Black Dahlia Murder\" by Mary Pacios \"Mary Pacios, who was 5 years old when she was befriended by 15 year old Bette Short, retraces Short\\'s steps, interviewing friends and associates. She also offered a detailed, if speculative, analysis of Orson Welles -particularly in regard to his movie \"The Lady From Shanghai\". According to Ms. Pacios, the movie, along with related archival materials, has many of the same ritualistic elements associated with Short\\'s murder. She raises the question: Could Welles have been the killer?\" Interesting theories -and with the spate of books now out on \"The Black Dahlia\", much more may come to light. Fritz Lang\\'s brutal \"film noir\", \"The Big Heat\" (1953), was a roman-a-clef telling of the \"Dahlia\" killing in \"The City Of Nets\" that was L.A. -but it\\'s the Orson opus that the \"Dahlia\" had a \"hands-on\" connection to. In reality, it was Bugsy Siegel (and the Hollywood mob wars of the 1940\\'s) that did the \"Dahlia\" in ...but that doesn\\'t negate much of what Pacios wrote. Almost all of Hollywood intersected with Elizabeth (\"The Black Dahlia\") Short and her tale/aura/legacy/curse is encoded in a number of Golden Age films.<br /><br />The \"Black Dahlia\" was always on the peripheral edges of \"Shanghai\"-even before it started filming. Barbara Payton on Franchot Tone: \"It was when he was thinking about making \"The Lady From Shanghai\", before he lost the option to Orson Welles. Franchot said he\\'d been in a bad state over that deal when he ran into the Dahlia in the Formosa Cafe* across from the Goldwyn studios...\" *The floor above the Formosa Cafe was Bugsy Siegel\\'s office and \"The Dahlia\" one of his on again/off again working \"girls\".<br /><br />It gets deeper and darker- After the 1951 brawl over Barbara Payton between Tom Neal and Franchot Tone that sent Franchot to the hospital with a concussion and \"never talking the same way again,\" Barbara said, she married Tone \"just to spite Neal.\" Tom (\"Detour\") Neal also knew \"The Dahlia\" (who didn\\'t?) and became obsessed- From \"L.A. Despair\" by John Gilmore: \"The January 1947 slaying of the young, beautiful would-be actress Elizabeth Short, known as \"The Black Dahlia\", was one of the most grisly murders in the annals of modern crime. A project, called \"Who Killed The Black Dahlia?\" was being kicked off by actor Tom Neal, a hell-raiser from WW II movies. Potential producer Gene Harris: \"Someone will have to come up with a more imaginative business proposition than what has been presented by Tom Neal and his cohorts...\" Not long after: \"It would be very clear one beautiful day to come, when Tom would sneak up on his pretty, new Palm Springs wife as she lay on their sofa and shoot a .45 bullet through her head.\" Barbara Payton and Norma Jean Dougherty (later Marilyn Monroe) knew the \"Dahlia\" and their stories are well known. It seems all who crossed the path of the \"Dahlia\" (like the proverbial black cat) entered a \"Twilight Zone\" darkness and/or had an incredible string of bad luck afterward. Tone/Neal/Welles are only a few -and this includes a butchered film called \"The Lady From Shanghai\"...<br /><br />\"Lady From Shanghai\" took two years to be released, thanks to extensive re-editing -and all because Columbia president Harry Cohn couldn\\'t understand the story. It\\'s dark \"noir\" to be sure -one of the darkest, in fact. It\\'s also a wicked satire on life in the new Atomic Age.<br /><br />Nicolas Christopher:<br /><br />\"Shanghai\" pushes forth an insistent subtext of nuclear apocalypse and contains the definitive noir statement concerning the atomic bomb and the American city. The film\\'s principal murder victim (and there are many), a psychotic and double-dealing lawyer, manically foresees Armageddon at every turn, claiming he can \"feel it.\" He announces that he plans to escape to a remote Pacific island -a particularly acid joke on Welles\\' part since this was the very year the U.S. began testing atomic bombs at just such a place, the Bikini Atoll, relocating all the inhabitants and destroying the ecosystem. By the time of Bikini, the erotic identification of Hayworth with the Bomb appears to have been institutionalized, with the blessing of the military brass; the first bomb dropped in the Pacific testing ground in named \"Gilda\" and has Hayworth\\'s image, in provocative dress, painted directly on its casing...\" <br /><br />Its ironic that Orson Welles\\' broad interpretation of an Irishman is considered a detriment to the film by many. Welles is giving a clue to viewers that \"Michael O\\'Hara\" is only the storyteller - not part of the story even though it revolves around him. \"O\\'Hara\" contradicts the shark motif throughout the film. Sharks on a feeding frenzy won\\'t stop until there\\'s nothing left. \"Michael O\\'Hara\" lives to tell the tale. \"Elsa Bannister\" causes a feeding frenzy during \"O\\'Hara\\'s\" trial and her netted chapeau suggests she\\'s caged in -so as not to devour the human spectators to a Roman Coleseum. The spectators are on a feeding frenzy of their own, gossiping and carrying on about \"Elsa\" -a human aquarium correlating to the San Francisco marine museum sequence. That\\'s the human condition ...except for \"Michael O\\'Hara\". And yet he\\'ll be spending his life trying to forget his past (\"Elsa\") -or die trying. \"Elsa\" is part of \"Michael\" and the tale eats its own tail in the end and the viewer is cautioned to stay out of trouble.'"
      ]
     },
     "execution_count": 17,
     "metadata": {},
     "output_type": "execute_result"
    }
   ],
   "source": [
    "messages[messages['length'] == 5966]['message'].iloc[0]"
   ]
  },
  {
   "cell_type": "code",
   "execution_count": 18,
   "metadata": {
    "collapsed": false,
    "deletable": true,
    "editable": true
   },
   "outputs": [
    {
     "data": {
      "text/plain": [
       "array([<matplotlib.axes._subplots.AxesSubplot object at 0x10e67e518>,\n",
       "       <matplotlib.axes._subplots.AxesSubplot object at 0x10e788908>], dtype=object)"
      ]
     },
     "execution_count": 18,
     "metadata": {},
     "output_type": "execute_result"
    },
    {
     "data": {
      "image/png": "[encoded data removed]",
      "text/plain": [
       "<matplotlib.figure.Figure at 0x10e5f71d0>"
      ]
     },
     "metadata": {},
     "output_type": "display_data"
    }
   ],
   "source": [
    "messages.hist(column='length', by='label', bins=50,figsize=(12,4))"
   ]
  },
  {
   "cell_type": "markdown",
   "metadata": {
    "deletable": true,
    "editable": true
   },
   "source": [
    "There is a trend that negative messages slightly tend to have more characters. \n",
    "\n"
   ]
  },
  {
   "cell_type": "markdown",
   "metadata": {
    "deletable": true,
    "editable": true
   },
   "source": [
    "## Text Pre-processing"
   ]
  },
  {
   "cell_type": "raw",
   "metadata": {
    "deletable": true,
    "editable": true
   },
   "source": [
    "My main issue with this data is that it is all in text format (strings). The classification algorithms that I've learned about so far will need some sort of numerical feature vector in order to perform the classification task. There are actually many methods to convert a corpus to a vector format. The simplest is the the [bag-of-words](http://en.wikipedia.org/wiki/Bag-of-words_model) approach, where each unique word in a text will be represented by one number.\n",
    "\n",
    "\n",
    "I will convert the raw messages (sequence of characters) into vectors (sequences of numbers).\n",
    "\n",
    "As a first step, I 'll write a function that splits a message into its individual words and return a list. \n",
    "I remove very common words, ('the', 'a', etc..). To do this we will take advantage of the NLTK library. \n",
    "\n",
    "\n",
    "First removing punctuation. "
   ]
  },
  {
   "cell_type": "code",
   "execution_count": 19,
   "metadata": {
    "collapsed": false,
    "deletable": true,
    "editable": true
   },
   "outputs": [],
   "source": [
    "import string\n",
    "\n",
    "mess = 'Sample message! Notice: it has punctuation.'\n",
    "\n",
    "# Check characters to see if they are in punctuation\n",
    "nopunc = [char for char in mess if char not in string.punctuation]\n",
    "\n",
    "# Join the characters again to form the string.\n",
    "nopunc = ''.join(nopunc)"
   ]
  },
  {
   "cell_type": "raw",
   "metadata": {
    "deletable": true,
    "editable": true
   },
   "source": [
    "Now I will remove stopwords. We can impot a list of english stopwords from NLTK "
   ]
  },
  {
   "cell_type": "code",
   "execution_count": 20,
   "metadata": {
    "collapsed": false,
    "deletable": true,
    "editable": true
   },
   "outputs": [
    {
     "data": {
      "text/plain": [
       "['i', 'me', 'my', 'myself', 'we', 'our', 'ours', 'ourselves', 'you', 'your']"
      ]
     },
     "execution_count": 20,
     "metadata": {},
     "output_type": "execute_result"
    }
   ],
   "source": [
    "from nltk.corpus import stopwords\n",
    "stopwords.words('english')[0:10] # Show some stop words"
   ]
  },
  {
   "cell_type": "code",
   "execution_count": 21,
   "metadata": {
    "collapsed": false,
    "deletable": true,
    "editable": true
   },
   "outputs": [
    {
     "data": {
      "text/plain": [
       "['Sample', 'message', 'Notice', 'it', 'has', 'punctuation']"
      ]
     },
     "execution_count": 21,
     "metadata": {},
     "output_type": "execute_result"
    }
   ],
   "source": [
    "nopunc.split()"
   ]
  },
  {
   "cell_type": "code",
   "execution_count": 22,
   "metadata": {
    "collapsed": true,
    "deletable": true,
    "editable": true
   },
   "outputs": [],
   "source": [
    "# Now just remove any stopwords\n",
    "clean_mess = [word for word in nopunc.split() if word.lower() not in stopwords.words('english')]"
   ]
  },
  {
   "cell_type": "code",
   "execution_count": 23,
   "metadata": {
    "collapsed": false,
    "deletable": true,
    "editable": true
   },
   "outputs": [
    {
     "data": {
      "text/plain": [
       "['Sample', 'message', 'Notice', 'punctuation']"
      ]
     },
     "execution_count": 23,
     "metadata": {},
     "output_type": "execute_result"
    }
   ],
   "source": [
    "clean_mess"
   ]
  },
  {
   "cell_type": "code",
   "execution_count": 24,
   "metadata": {
    "collapsed": true,
    "deletable": true,
    "editable": true
   },
   "outputs": [],
   "source": [
    "def text_process(mess):\n",
    "    \"\"\"\n",
    "    Takes in a string of text, then performs the following:\n",
    "    1. Remove all punctuation\n",
    "    2. Remove all stopwords\n",
    "    3. Returns a list of the cleaned text\n",
    "    \"\"\"\n",
    "    # Check characters to see if they are in punctuation\n",
    "    nopunc = [char for char in mess if char not in string.punctuation]\n",
    "\n",
    "    # Join the characters again to form the string.\n",
    "    nopunc = ''.join(nopunc)\n",
    "    \n",
    "    # Now just remove any stopwords\n",
    "    return [word for word in nopunc.split() if word.lower() not in stopwords.words('english')]"
   ]
  },
  {
   "cell_type": "markdown",
   "metadata": {
    "deletable": true,
    "editable": true
   },
   "source": [
    "Here is the original DataFrame again:"
   ]
  },
  {
   "cell_type": "code",
   "execution_count": 25,
   "metadata": {
    "collapsed": false,
    "deletable": true,
    "editable": true
   },
   "outputs": [
    {
     "data": {
      "text/html": [
       "<div>\n",
       "<table border=\"1\" class=\"dataframe\">\n",
       "  <thead>\n",
       "    <tr style=\"text-align: right;\">\n",
       "      <th></th>\n",
       "      <th>message</th>\n",
       "      <th>label</th>\n",
       "      <th>length</th>\n",
       "    </tr>\n",
       "  </thead>\n",
       "  <tbody>\n",
       "    <tr>\n",
       "      <th>0</th>\n",
       "      <td>This movie is really not all that bad. But the...</td>\n",
       "      <td>positive</td>\n",
       "      <td>290</td>\n",
       "    </tr>\n",
       "    <tr>\n",
       "      <th>1</th>\n",
       "      <td>Vanilla Sky was a wonderfully thought out movi...</td>\n",
       "      <td>positive</td>\n",
       "      <td>695</td>\n",
       "    </tr>\n",
       "    <tr>\n",
       "      <th>2</th>\n",
       "      <td>Joseph Brady and Clarence Doolittle are two sa...</td>\n",
       "      <td>positive</td>\n",
       "      <td>2171</td>\n",
       "    </tr>\n",
       "    <tr>\n",
       "      <th>3</th>\n",
       "      <td>10 ITEMS OR LESS was made in two weeks on a sh...</td>\n",
       "      <td>positive</td>\n",
       "      <td>1686</td>\n",
       "    </tr>\n",
       "    <tr>\n",
       "      <th>4</th>\n",
       "      <td>I saw this movie first on the Berlin Film Fest...</td>\n",
       "      <td>positive</td>\n",
       "      <td>477</td>\n",
       "    </tr>\n",
       "  </tbody>\n",
       "</table>\n",
       "</div>"
      ],
      "text/plain": [
       "                                             message     label  length\n",
       "0  This movie is really not all that bad. But the...  positive     290\n",
       "1  Vanilla Sky was a wonderfully thought out movi...  positive     695\n",
       "2  Joseph Brady and Clarence Doolittle are two sa...  positive    2171\n",
       "3  10 ITEMS OR LESS was made in two weeks on a sh...  positive    1686\n",
       "4  I saw this movie first on the Berlin Film Fest...  positive     477"
      ]
     },
     "execution_count": 25,
     "metadata": {},
     "output_type": "execute_result"
    }
   ],
   "source": [
    "messages.head()"
   ]
  },
  {
   "cell_type": "raw",
   "metadata": {
    "deletable": true,
    "editable": true
   },
   "source": [
    "Now I will\"tokenize\" these messages. Tokenization is just the term used to describe the process of converting the normal text strings in to a list of tokens (words that we actually want).\n"
   ]
  },
  {
   "cell_type": "code",
   "execution_count": 26,
   "metadata": {
    "collapsed": false,
    "deletable": true,
    "editable": true
   },
   "outputs": [
    {
     "data": {
      "text/plain": [
       "0    [movie, really, bad, movie, genre, right, alle...\n",
       "1    [Vanilla, Sky, wonderfully, thought, movie, ra...\n",
       "2    [Joseph, Brady, Clarence, Doolittle, two, sail...\n",
       "3    [10, ITEMS, LESS, made, two, weeks, shoestring...\n",
       "4    [saw, movie, first, Berlin, Film, Festival, ne...\n",
       "Name: message, dtype: object"
      ]
     },
     "execution_count": 26,
     "metadata": {},
     "output_type": "execute_result"
    }
   ],
   "source": [
    "# Check to make sure its working\n",
    "messages['message'].head(5).apply(text_process)"
   ]
  },
  {
   "cell_type": "code",
   "execution_count": 27,
   "metadata": {
    "collapsed": false,
    "deletable": true,
    "editable": true
   },
   "outputs": [
    {
     "data": {
      "text/html": [
       "<div>\n",
       "<table border=\"1\" class=\"dataframe\">\n",
       "  <thead>\n",
       "    <tr style=\"text-align: right;\">\n",
       "      <th></th>\n",
       "      <th>message</th>\n",
       "      <th>label</th>\n",
       "      <th>length</th>\n",
       "    </tr>\n",
       "  </thead>\n",
       "  <tbody>\n",
       "    <tr>\n",
       "      <th>0</th>\n",
       "      <td>This movie is really not all that bad. But the...</td>\n",
       "      <td>positive</td>\n",
       "      <td>290</td>\n",
       "    </tr>\n",
       "    <tr>\n",
       "      <th>1</th>\n",
       "      <td>Vanilla Sky was a wonderfully thought out movi...</td>\n",
       "      <td>positive</td>\n",
       "      <td>695</td>\n",
       "    </tr>\n",
       "    <tr>\n",
       "      <th>2</th>\n",
       "      <td>Joseph Brady and Clarence Doolittle are two sa...</td>\n",
       "      <td>positive</td>\n",
       "      <td>2171</td>\n",
       "    </tr>\n",
       "    <tr>\n",
       "      <th>3</th>\n",
       "      <td>10 ITEMS OR LESS was made in two weeks on a sh...</td>\n",
       "      <td>positive</td>\n",
       "      <td>1686</td>\n",
       "    </tr>\n",
       "    <tr>\n",
       "      <th>4</th>\n",
       "      <td>I saw this movie first on the Berlin Film Fest...</td>\n",
       "      <td>positive</td>\n",
       "      <td>477</td>\n",
       "    </tr>\n",
       "  </tbody>\n",
       "</table>\n",
       "</div>"
      ],
      "text/plain": [
       "                                             message     label  length\n",
       "0  This movie is really not all that bad. But the...  positive     290\n",
       "1  Vanilla Sky was a wonderfully thought out movi...  positive     695\n",
       "2  Joseph Brady and Clarence Doolittle are two sa...  positive    2171\n",
       "3  10 ITEMS OR LESS was made in two weeks on a sh...  positive    1686\n",
       "4  I saw this movie first on the Berlin Film Fest...  positive     477"
      ]
     },
     "execution_count": 27,
     "metadata": {},
     "output_type": "execute_result"
    }
   ],
   "source": [
    "# Show original dataframe\n",
    "messages.head()"
   ]
  },
  {
   "cell_type": "markdown",
   "metadata": {
    "deletable": true,
    "editable": true
   },
   "source": [
    "### Continuing Normalization\n",
    "\n",
    "There are a lot of ways to continue normalizing this text. Such as [Stemming](https://en.wikipedia.org/wiki/Stemming) or distinguishing by [part of speech](http://www.nltk.org/book/ch05.html).\n",
    "\n",
    "NLTK has lots of built-in tools and great documentation on a lot of these methods. Sometimes they don't work well for text-messages due to the way a lot of people tend to use abbreviations or shorthand, For example:\n",
    "    \n",
    "    'Nah dawg, IDK! Wut time u headin to da club?'\n",
    "    \n",
    "versus\n",
    "\n",
    "    'No dog, I don't know! What time are you heading to the club?'\n",
    "    \n",
    "Some text normalization methods will have trouble with this type of shorthand "
   ]
  },
  {
   "cell_type": "markdown",
   "metadata": {
    "deletable": true,
    "editable": true
   },
   "source": [
    "## Vectorization"
   ]
  },
  {
   "cell_type": "markdown",
   "metadata": {
    "deletable": true,
    "editable": true
   },
   "source": [
    "\n",
    "\n",
    "Now I'll convert each message, represented as a list of tokens (lemmas) above, into a vector that machine learning models can understand.\n",
    "\n",
    "I'll do that in three steps using the bag-of-words model:\n",
    "\n",
    "1. Count how many times does a word occur in each message (Known as term frequency)\n",
    "\n",
    "2. Weigh the counts, so that frequent tokens get lower weight (inverse document frequency)\n",
    "\n",
    "3. Normalize the vectors to unit length, to abstract from the original text length (L2 norm)\n",
    "\n"
   ]
  },
  {
   "cell_type": "markdown",
   "metadata": {
    "deletable": true,
    "editable": true
   },
   "source": [
    "Each vector will have as many dimensions as there are unique words in the SMS corpus. I will first use SciKit Learn's **CountVectorizer**. This model will convert a collection of text documents to a matrix of token counts.\n",
    "\n",
    "We can imagine this as a 2-Dimensional matrix. Where the 1-dimension is the entire vocabulary (1 row per word) and the other dimension are the actual documents, in this case a column per text message. \n",
    "\n",
    "For example:\n",
    "\n",
    "<table border = “1“>\n",
    "<tr>\n",
    "<th></th> <th>Message 1</th> <th>Message 2</th> <th>...</th> <th>Message N</th> \n",
    "</tr>\n",
    "<tr>\n",
    "<td><b>Word 1 Count</b></td><td>0</td><td>1</td><td>...</td><td>0</td>\n",
    "</tr>\n",
    "<tr>\n",
    "<td><b>Word 2 Count</b></td><td>0</td><td>0</td><td>...</td><td>0</td>\n",
    "</tr>\n",
    "<tr>\n",
    "<td><b>...</b></td> <td>1</td><td>2</td><td>...</td><td>0</td>\n",
    "</tr>\n",
    "<tr>\n",
    "<td><b>Word N Count</b></td> <td>0</td><td>1</td><td>...</td><td>1</td>\n",
    "</tr>\n",
    "</table>\n",
    "\n",
    "\n",
    "Since there are so many messages, I can expect a lot of zero counts for the presence of that word in that document. Because of this, SciKit Learn will output a [Sparse Matrix](https://en.wikipedia.org/wiki/Sparse_matrix)."
   ]
  },
  {
   "cell_type": "code",
   "execution_count": 28,
   "metadata": {
    "collapsed": false,
    "deletable": true,
    "editable": true
   },
   "outputs": [],
   "source": [
    "from sklearn.feature_extraction.text import CountVectorizer"
   ]
  },
  {
   "cell_type": "markdown",
   "metadata": {
    "deletable": true,
    "editable": true
   },
   "source": [
    "There are a lot of arguments and parameters that can be passed to the CountVectorizer. In this case we will just specify the **analyzer** to be our own previously defined function:"
   ]
  },
  {
   "cell_type": "code",
   "execution_count": 29,
   "metadata": {
    "collapsed": false,
    "deletable": true,
    "editable": true
   },
   "outputs": [
    {
     "name": "stdout",
     "output_type": "stream",
     "text": [
      "34804\n"
     ]
    }
   ],
   "source": [
    "bow_transformer = CountVectorizer(analyzer=text_process).fit(messages['message'])\n",
    "\n",
    "# Print total number of vocab words\n",
    "print(len(bow_transformer.vocabulary_))"
   ]
  },
  {
   "cell_type": "markdown",
   "metadata": {
    "deletable": true,
    "editable": true
   },
   "source": [
    "Let's take one text message and get its bag-of-words counts as a vector, putting to use our new `bow_transformer`:"
   ]
  },
  {
   "cell_type": "code",
   "execution_count": 30,
   "metadata": {
    "collapsed": false,
    "deletable": true,
    "editable": true
   },
   "outputs": [
    {
     "name": "stdout",
     "output_type": "stream",
     "text": [
      "10 ITEMS OR LESS was made in two weeks on a shoestring budget by writer/director Brad Silberling, just a little film shot in Carson, CA that feels like the entire story was improvised...in the best sense of the word. Silberling had the good fortune to pair veteran actor Morgan Freeman, in between his big projects, with Spanish actress Paz Vega, and the result is a dialogue between two people from different vantages who manage to enhance the life of the other.<br /><br />Morgan Freeman plays himself - yet part of the comedy is that he is depicted as an actor who has been out of work for four years, scouting a location for a little 'filler film' to get back into the flow of things. His 'role' is to be that of a market manager and he is dropped off at seedy market in Carson where he encounters, among others, one Scarlet, the girl at the argumentative 10 Items or Less checkout line. Not only is Scarlet tired of her static job, she is also generally angry about her philandering husband (Bobby Cannavale), currently sleeping with Scarlet's lazy co-worker (Anne Dudek), and her lack of ability to get a decent job elsewhere. The two pair after a few shared problems and off they go on a 'road trip' that results in each of the characters growing from the presence and life story of the other.<br /><br />It is a simple story, simply told, but because of the tender bonding between Freeman and Paz it works very well. This is one of those little films about human relationships where being vulnerable to change and exchange is the message. It is well worth viewing, and this is a DVD that has featurettes that are touching, informative, and comic - a pleasure to view. Grady Harp\n"
     ]
    }
   ],
   "source": [
    "message4 = messages['message'][3]\n",
    "print(message4)"
   ]
  },
  {
   "cell_type": "markdown",
   "metadata": {
    "deletable": true,
    "editable": true
   },
   "source": [
    "Now let's see its vector representation:"
   ]
  },
  {
   "cell_type": "code",
   "execution_count": 31,
   "metadata": {
    "collapsed": false,
    "deletable": true,
    "editable": true
   },
   "outputs": [
    {
     "name": "stdout",
     "output_type": "stream",
     "text": [
      "  (0, 8)\t2\n",
      "  (0, 972)\t1\n",
      "  (0, 1761)\t1\n",
      "  (0, 1880)\t1\n",
      "  (0, 2098)\t1\n",
      "  (0, 2263)\t1\n",
      "  (0, 2350)\t2\n",
      "  (0, 3209)\t1\n",
      "  (0, 3745)\t1\n",
      "  (0, 4558)\t3\n",
      "  (0, 4972)\t1\n",
      "  (0, 5294)\t1\n",
      "  (0, 5754)\t1\n",
      "  (0, 5945)\t1\n",
      "  (0, 6606)\t1\n",
      "  (0, 6844)\t1\n",
      "  (0, 7925)\t2\n",
      "  (0, 8793)\t2\n",
      "  (0, 10103)\t2\n",
      "  (0, 10104)\t1\n",
      "  (0, 10479)\t2\n",
      "  (0, 10733)\t1\n",
      "  (0, 11846)\t1\n",
      "  (0, 12624)\t1\n",
      "  (0, 12812)\t2\n",
      "  :\t:\n",
      "  (0, 30171)\t1\n",
      "  (0, 30353)\t1\n",
      "  (0, 31089)\t1\n",
      "  (0, 31242)\t3\n",
      "  (0, 32136)\t1\n",
      "  (0, 32308)\t1\n",
      "  (0, 32501)\t1\n",
      "  (0, 32541)\t1\n",
      "  (0, 32647)\t1\n",
      "  (0, 32876)\t1\n",
      "  (0, 33027)\t3\n",
      "  (0, 33651)\t1\n",
      "  (0, 33728)\t1\n",
      "  (0, 33771)\t1\n",
      "  (0, 33779)\t1\n",
      "  (0, 33940)\t1\n",
      "  (0, 34160)\t1\n",
      "  (0, 34188)\t2\n",
      "  (0, 34526)\t1\n",
      "  (0, 34533)\t1\n",
      "  (0, 34547)\t1\n",
      "  (0, 34582)\t1\n",
      "  (0, 34631)\t1\n",
      "  (0, 34690)\t1\n",
      "  (0, 34705)\t1\n",
      "(1, 34804)\n"
     ]
    }
   ],
   "source": [
    "bow4 = bow_transformer.transform([message4])\n",
    "print(bow4)\n",
    "print(bow4.shape)"
   ]
  },
  {
   "cell_type": "raw",
   "metadata": {
    "deletable": true,
    "editable": true
   },
   "source": [
    "This means that there are 52 unique words in message number some of them repeted couple of times."
   ]
  },
  {
   "cell_type": "code",
   "execution_count": 33,
   "metadata": {
    "collapsed": false,
    "deletable": true,
    "editable": true
   },
   "outputs": [
    {
     "name": "stdout",
     "output_type": "stream",
     "text": [
      "two\n",
      "well\n"
     ]
    }
   ],
   "source": [
    "print(bow_transformer.get_feature_names()[33027])\n",
    "print(bow_transformer.get_feature_names()[34188])"
   ]
  },
  {
   "cell_type": "markdown",
   "metadata": {
    "deletable": true,
    "editable": true
   },
   "source": [
    "Now we can use **.transform** on our Bag-of-Words (bow) transformed object and transform the entire DataFrame of messages. "
   ]
  },
  {
   "cell_type": "code",
   "execution_count": 34,
   "metadata": {
    "collapsed": true,
    "deletable": true,
    "editable": true
   },
   "outputs": [],
   "source": [
    "messages_bow = bow_transformer.transform(messages['message'])"
   ]
  },
  {
   "cell_type": "code",
   "execution_count": 35,
   "metadata": {
    "collapsed": false,
    "deletable": true,
    "editable": true
   },
   "outputs": [
    {
     "name": "stdout",
     "output_type": "stream",
     "text": [
      "Shape of Sparse Matrix:  (1959, 34804)\n",
      "Amount of Non-Zero occurences:  200194\n"
     ]
    }
   ],
   "source": [
    "print('Shape of Sparse Matrix: ', messages_bow.shape)\n",
    "print('Amount of Non-Zero occurences: ', messages_bow.nnz)"
   ]
  },
  {
   "cell_type": "code",
   "execution_count": 36,
   "metadata": {
    "collapsed": false,
    "deletable": true,
    "editable": true
   },
   "outputs": [
    {
     "name": "stdout",
     "output_type": "stream",
     "text": [
      "sparsity: 0\n"
     ]
    }
   ],
   "source": [
    "sparsity = (100.0 * messages_bow.nnz / (messages_bow.shape[0] * messages_bow.shape[1]))\n",
    "print('sparsity: {}'.format(round(sparsity)))"
   ]
  },
  {
   "cell_type": "markdown",
   "metadata": {
    "deletable": true,
    "editable": true
   },
   "source": [
    "After the counting, the term weighting and normalization can be done with [TF-IDF](http://en.wikipedia.org/wiki/Tf%E2%80%93idf), using scikit-learn's `TfidfTransformer`.\n",
    "\n",
    "____\n",
    "### So what is TF-IDF?\n",
    "TF-IDF stands for *term frequency-inverse document frequency*, and the tf-idf weight is a weight often used in information retrieval and text mining. This weight is a statistical measure used to evaluate how important a word is to a document in a collection or corpus. The importance increases proportionally to the number of times a word appears in the document but is offset by the frequency of the word in the corpus. Variations of the tf-idf weighting scheme are often used by search engines as a central tool in scoring and ranking a document's relevance given a user query.\n",
    "\n",
    "One of the simplest ranking functions is computed by summing the tf-idf for each query term; many more sophisticated ranking functions are variants of this simple model.\n",
    "\n",
    "Typically, the tf-idf weight is composed by two terms: the first computes the normalized Term Frequency (TF), aka. the number of times a word appears in a document, divided by the total number of words in that document; the second term is the Inverse Document Frequency (IDF), computed as the logarithm of the number of the documents in the corpus divided by the number of documents where the specific term appears.\n",
    "\n",
    "**TF: Term Frequency**, which measures how frequently a term occurs in a document. Since every document is different in length, it is possible that a term would appear much more times in long documents than shorter ones. Thus, the term frequency is often divided by the document length (aka. the total number of terms in the document) as a way of normalization: \n",
    "\n",
    "*TF(t) = (Number of times term t appears in a document) / (Total number of terms in the document).*\n",
    "\n",
    "**IDF: Inverse Document Frequency**, which measures how important a term is. While computing TF, all terms are considered equally important. However it is known that certain terms, such as \"is\", \"of\", and \"that\", may appear a lot of times but have little importance. Thus we need to weigh down the frequent terms while scale up the rare ones, by computing the following: \n",
    "\n",
    "*IDF(t) = log_e(Total number of documents / Number of documents with term t in it).*\n",
    "\n",
    "See below for a simple example.\n",
    "\n",
    "**Example:**\n",
    "\n",
    "Consider a document containing 100 words wherein the word cat appears 3 times. \n",
    "\n",
    "The term frequency (i.e., tf) for cat is then (3 / 100) = 0.03. Now, assume we have 10 million documents and the word cat appears in one thousand of these. Then, the inverse document frequency (i.e., idf) is calculated as log(10,000,000 / 1,000) = 4. Thus, the Tf-idf weight is the product of these quantities: 0.03 * 4 = 0.12.\n",
    "____\n",
    "\n",
    "using SciKit Learn I can do this:"
   ]
  },
  {
   "cell_type": "code",
   "execution_count": 37,
   "metadata": {
    "collapsed": false,
    "deletable": true,
    "editable": true
   },
   "outputs": [
    {
     "name": "stdout",
     "output_type": "stream",
     "text": [
      "  (0, 34705)\t0.0468524654743\n",
      "  (0, 34690)\t0.0394981342845\n",
      "  (0, 34631)\t0.0764044338673\n",
      "  (0, 34582)\t0.0459522512965\n",
      "  (0, 34547)\t0.0553258362323\n",
      "  (0, 34533)\t0.0396450257112\n",
      "  (0, 34526)\t0.0572158383226\n",
      "  (0, 34188)\t0.0644396523546\n",
      "  (0, 34160)\t0.0864247286076\n",
      "  (0, 33940)\t0.0902490414147\n",
      "  (0, 33779)\t0.0603214064231\n",
      "  (0, 33771)\t0.0600902086157\n",
      "  (0, 33728)\t0.0834583611387\n",
      "  (0, 33651)\t0.104853486557\n",
      "  (0, 33027)\t0.107573072349\n",
      "  (0, 32876)\t0.0684180232125\n",
      "  (0, 32647)\t0.0697710754138\n",
      "  (0, 32541)\t0.0570324762589\n",
      "  (0, 32501)\t0.0697710754138\n",
      "  (0, 32308)\t0.0411004586141\n",
      "  (0, 32136)\t0.0821913515605\n",
      "  (0, 31242)\t0.0879636762249\n",
      "  (0, 31089)\t0.0926727401135\n",
      "  (0, 30353)\t0.0834583611387\n",
      "  (0, 30171)\t0.051461542827\n",
      "  :\t:\n",
      "  (0, 12812)\t0.100410850258\n",
      "  (0, 12624)\t0.0688539159962\n",
      "  (0, 11846)\t0.0902490414147\n",
      "  (0, 10733)\t0.0789854543886\n",
      "  (0, 10479)\t0.209706973114\n",
      "  (0, 10104)\t0.104853486557\n",
      "  (0, 10103)\t0.191278215165\n",
      "  (0, 8793)\t0.185345480227\n",
      "  (0, 7925)\t0.159941223191\n",
      "  (0, 6844)\t0.0926727401135\n",
      "  (0, 6606)\t0.104853486557\n",
      "  (0, 5945)\t0.0994634203895\n",
      "  (0, 5754)\t0.104853486557\n",
      "  (0, 5294)\t0.0956391075824\n",
      "  (0, 4972)\t0.0902490414147\n",
      "  (0, 4558)\t0.259274185823\n",
      "  (0, 3745)\t0.104853486557\n",
      "  (0, 3209)\t0.0471955435823\n",
      "  (0, 2350)\t0.198926840779\n",
      "  (0, 2263)\t0.0994634203895\n",
      "  (0, 2098)\t0.0994634203895\n",
      "  (0, 1880)\t0.0799706115956\n",
      "  (0, 1761)\t0.0881998333634\n",
      "  (0, 972)\t0.0810346624399\n",
      "  (0, 8)\t0.0930360383685\n"
     ]
    }
   ],
   "source": [
    "from sklearn.feature_extraction.text import TfidfTransformer\n",
    "\n",
    "tfidf_transformer = TfidfTransformer().fit(messages_bow)\n",
    "tfidf4 = tfidf_transformer.transform(bow4)\n",
    "print(tfidf4)"
   ]
  },
  {
   "cell_type": "markdown",
   "metadata": {
    "deletable": true,
    "editable": true
   },
   "source": [
    "We'll go ahead and check what is the IDF (inverse document frequency) of the word `\"u\"` and of word `\"university\"`?"
   ]
  },
  {
   "cell_type": "code",
   "execution_count": 38,
   "metadata": {
    "collapsed": false,
    "deletable": true,
    "editable": true
   },
   "outputs": [
    {
     "name": "stdout",
     "output_type": "stream",
     "text": [
      "6.50125821054\n",
      "7.1944053911\n"
     ]
    }
   ],
   "source": [
    "print(tfidf_transformer.idf_[bow_transformer.vocabulary_['u']])\n",
    "print(tfidf_transformer.idf_[bow_transformer.vocabulary_['university']])"
   ]
  },
  {
   "cell_type": "markdown",
   "metadata": {
    "deletable": true,
    "editable": true
   },
   "source": [
    "To transform the entire bag-of-words corpus into TF-IDF corpus at once:"
   ]
  },
  {
   "cell_type": "code",
   "execution_count": 39,
   "metadata": {
    "collapsed": false,
    "deletable": true,
    "editable": true
   },
   "outputs": [
    {
     "name": "stdout",
     "output_type": "stream",
     "text": [
      "(1959, 34804)\n"
     ]
    }
   ],
   "source": [
    "messages_tfidf = tfidf_transformer.transform(messages_bow)\n",
    "print(messages_tfidf.shape)"
   ]
  },
  {
   "cell_type": "markdown",
   "metadata": {
    "deletable": true,
    "editable": true
   },
   "source": [
    "## Training a model"
   ]
  },
  {
   "cell_type": "markdown",
   "metadata": {
    "deletable": true,
    "editable": true
   },
   "source": [
    "With messages represented as vectors, we can finally train our positive/negative classifier. Now we can actually use almost any sort of classification algorithms. For this project i will use (http://www.inf.ed.ac.uk/teaching/courses/inf2b/learnnotes/inf2b-learn-note07-2up.pdf), the Naive Bayes classifier algorithm."
   ]
  },
  {
   "cell_type": "markdown",
   "metadata": {
    "deletable": true,
    "editable": true
   },
   "source": [
    "We'll be using scikit-learn here, choosing the [Naive Bayes](http://en.wikipedia.org/wiki/Naive_Bayes_classifier) classifier to start with:"
   ]
  },
  {
   "cell_type": "code",
   "execution_count": 40,
   "metadata": {
    "collapsed": false,
    "deletable": true,
    "editable": true
   },
   "outputs": [],
   "source": [
    "from sklearn.naive_bayes import MultinomialNB\n",
    "sentimental_detect_model = MultinomialNB().fit(messages_tfidf, messages['label'])"
   ]
  },
  {
   "cell_type": "markdown",
   "metadata": {
    "deletable": true,
    "editable": true
   },
   "source": [
    "Let's try classifying our single random message and checking how we do:"
   ]
  },
  {
   "cell_type": "code",
   "execution_count": 41,
   "metadata": {
    "collapsed": false,
    "deletable": true,
    "editable": true
   },
   "outputs": [
    {
     "name": "stdout",
     "output_type": "stream",
     "text": [
      "predicted: positive\n",
      "expected: positive\n"
     ]
    }
   ],
   "source": [
    "print('predicted:', sentimental_detect_model.predict(tfidf4)[0])\n",
    "print('expected:', messages.label[3])"
   ]
  },
  {
   "cell_type": "markdown",
   "metadata": {
    "deletable": true,
    "editable": true
   },
   "source": [
    "\n",
    "\n",
    "##  Model Evaluation\n",
    "Now I want to determine how well our model will do overall on the entire dataset. "
   ]
  },
  {
   "cell_type": "code",
   "execution_count": 42,
   "metadata": {
    "collapsed": false,
    "deletable": true,
    "editable": true
   },
   "outputs": [
    {
     "name": "stdout",
     "output_type": "stream",
     "text": [
      "['negative' 'positive' 'positive' ..., 'negative' 'negative' 'negative']\n"
     ]
    }
   ],
   "source": [
    "all_predictions = sentimental_detect_model.predict(messages_tfidf)\n",
    "print(all_predictions)"
   ]
  },
  {
   "cell_type": "markdown",
   "metadata": {
    "deletable": true,
    "editable": true
   },
   "source": [
    "I can use SciKit Learn's built-in classification report, which returns [precision, recall,](https://en.wikipedia.org/wiki/Precision_and_recall) [f1-score](https://en.wikipedia.org/wiki/F1_score), and a column for support (meaning how many cases supported that classification). Check out the links for more detailed info on each of these metrics and the figure below:"
   ]
  },
  {
   "cell_type": "markdown",
   "metadata": {
    "collapsed": false,
    "deletable": true,
    "editable": true
   },
   "source": [
    "<img src='https://upload.wikimedia.org/wikipedia/commons/thumb/2/26/Precisionrecall.svg/700px-Precisionrecall.svg.png' width=400 />"
   ]
  },
  {
   "cell_type": "code",
   "execution_count": 43,
   "metadata": {
    "collapsed": false,
    "deletable": true,
    "editable": true
   },
   "outputs": [
    {
     "name": "stdout",
     "output_type": "stream",
     "text": [
      "             precision    recall  f1-score   support\n",
      "\n",
      "   negative       0.96      1.00      0.98      1001\n",
      "   positive       1.00      0.95      0.97       958\n",
      "\n",
      "avg / total       0.98      0.98      0.98      1959\n",
      "\n"
     ]
    }
   ],
   "source": [
    "from sklearn.metrics import classification_report\n",
    "print (classification_report(messages['label'], all_predictions))"
   ]
  },
  {
   "cell_type": "markdown",
   "metadata": {
    "deletable": true,
    "editable": true
   },
   "source": [
    "In the above \"evaluation\",we evaluated accuracy on the same data we used for training.\n",
    "\n",
    "## Train Test Split"
   ]
  },
  {
   "cell_type": "code",
   "execution_count": 44,
   "metadata": {
    "collapsed": false,
    "deletable": true,
    "editable": true
   },
   "outputs": [
    {
     "name": "stdout",
     "output_type": "stream",
     "text": [
      "1567 392 1959\n"
     ]
    }
   ],
   "source": [
    "from sklearn.model_selection import train_test_split\n",
    "\n",
    "msg_train, msg_test, label_train, label_test = \\\n",
    "train_test_split(messages['message'], messages['label'], test_size=0.2)\n",
    "\n",
    "print(len(msg_train), len(msg_test), len(msg_train) + len(msg_test))"
   ]
  },
  {
   "cell_type": "markdown",
   "metadata": {
    "deletable": true,
    "editable": true
   },
   "source": [
    "The test size is 20% of the entire dataset (392 messages out of total 1959), and the training is the rest (1567 out of 1959).\n",
    "\n",
    "## Creating a Data Pipeline\n",
    "\n",
    "I will use SciKit Learn's [pipeline](http://scikit-learn.org/stable/modules/pipeline.html) capabilities to store a pipeline of workflow. This will allow me to set up all the transformations that I will do to the data for future use. "
   ]
  },
  {
   "cell_type": "code",
   "execution_count": 45,
   "metadata": {
    "collapsed": false,
    "deletable": true,
    "editable": true
   },
   "outputs": [],
   "source": [
    "from sklearn.pipeline import Pipeline\n",
    "\n",
    "pipeline = Pipeline([\n",
    "    ('bow', CountVectorizer(analyzer=text_process)),  # strings to token integer counts\n",
    "    ('tfidf', TfidfTransformer()),  # integer counts to weighted TF-IDF scores\n",
    "    ('classifier', MultinomialNB()),  # train on TF-IDF vectors w/ Naive Bayes classifier\n",
    "])"
   ]
  },
  {
   "cell_type": "markdown",
   "metadata": {
    "deletable": true,
    "editable": true
   },
   "source": [
    "Now I can directly pass message text data and the pipeline will do our pre-processing for me! I can treat it as a model/estimator API:"
   ]
  },
  {
   "cell_type": "code",
   "execution_count": 46,
   "metadata": {
    "collapsed": false,
    "deletable": true,
    "editable": true
   },
   "outputs": [
    {
     "data": {
      "text/plain": [
       "Pipeline(steps=[('bow', CountVectorizer(analyzer=<function text_process at 0x1103e9158>, binary=False,\n",
       "        decode_error='strict', dtype=<class 'numpy.int64'>,\n",
       "        encoding='utf-8', input='content', lowercase=True, max_df=1.0,\n",
       "        max_features=None, min_df=1, ngram_range=(1, 1), preprocessor=None,...f=False, use_idf=True)), ('classifier', MultinomialNB(alpha=1.0, class_prior=None, fit_prior=True))])"
      ]
     },
     "execution_count": 46,
     "metadata": {},
     "output_type": "execute_result"
    }
   ],
   "source": [
    "pipeline.fit(msg_train,label_train)"
   ]
  },
  {
   "cell_type": "code",
   "execution_count": 47,
   "metadata": {
    "collapsed": false,
    "deletable": true,
    "editable": true
   },
   "outputs": [],
   "source": [
    "predictions = pipeline.predict(msg_test)"
   ]
  },
  {
   "cell_type": "code",
   "execution_count": 48,
   "metadata": {
    "collapsed": false,
    "deletable": true,
    "editable": true
   },
   "outputs": [
    {
     "name": "stdout",
     "output_type": "stream",
     "text": [
      "             precision    recall  f1-score   support\n",
      "\n",
      "   negative       0.89      0.77      0.83       234\n",
      "   positive       0.72      0.85      0.78       158\n",
      "\n",
      "avg / total       0.82      0.81      0.81       392\n",
      "\n"
     ]
    }
   ],
   "source": [
    "print(classification_report(predictions,label_test))"
   ]
  },
  {
   "cell_type": "markdown",
   "metadata": {
    "deletable": true,
    "editable": true
   },
   "source": [
    "Now I have a classification report for our model on a true testing set! "
   ]
  },
  {
   "cell_type": "code",
   "execution_count": null,
   "metadata": {
    "collapsed": true,
    "deletable": true,
    "editable": true
   },
   "outputs": [],
   "source": []
  }
 ],
 "metadata": {
  "kernelspec": {
   "display_name": "Python 3",
   "language": "python",
   "name": "python3"
  },
  "language_info": {
   "codemirror_mode": {
    "name": "ipython",
    "version": 3
   },
   "file_extension": ".py",
   "mimetype": "text/x-python",
   "name": "python",
   "nbconvert_exporter": "python",
   "pygments_lexer": "ipython3",
   "version": "3.5.3"
  }
 },
 "nbformat": 4,
 "nbformat_minor": 0
}
